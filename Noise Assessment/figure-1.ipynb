{
 "cells": [
  {
   "cell_type": "code",
   "execution_count": 14,
   "metadata": {},
   "outputs": [],
   "source": [
    "import numpy as np\n",
    "import matplotlib.pyplot as plt\n",
    "%matplotlib qt "
   ]
  },
  {
   "cell_type": "code",
   "execution_count": 19,
   "metadata": {},
   "outputs": [],
   "source": [
    "omegaT = np.linspace(0,4*np.pi,200)\n",
    "Pu = (np.cos(7*np.pi/6+omegaT))\n",
    "Pd = (np.cos(omegaT))\n",
    "\n",
    "\n",
    "\n",
    "\n",
    "plt.figure(figsize=(8, 6))\n",
    "# Create a 2x2 subplot layout and plot data\n",
    "plt.subplot2grid((2, 2), (0, 0))  # First subplot\n",
    "plt.plot(omegaT,Pu,color='gray',label = r'$| F = 2 , p+hk_{eff} \\rangle$')\n",
    "plt.grid()\n",
    "plt.xlabel('Pulse Duration'+r'$(1/ \\Omega)$', fontsize=11, fontweight='bold')\n",
    "plt.ylabel('Possibility of Satae Populations(t) down', fontsize=11, fontweight='bold')\n",
    "\n",
    "plt.subplot2grid((2, 2), (1, 0))  # Second subplot\n",
    "plt.plot(omegaT,Pd,color='black',label = r'$| F = 2 , p+hk_{eff} \\rangle$')\n",
    "plt.grid()\n",
    "plt.xlabel('Pulse Duration'+r'$(1/ \\Omega)$', fontsize=11, fontweight='bold')\n",
    "plt.ylabel('Possibility of Satae Populations(t) up', fontsize=11, fontweight='bold')\n",
    "\n",
    "plt.subplot2grid((2, 2), (0, 1),rowspan=2 )  # Third subplot spanning two columns\n",
    "plt.plot(Pu,Pd,color='black',label = r'$| F = 2 , p+hk_{eff} \\rangle$')\n",
    "plt.grid()\n",
    "plt.xlabel('Possibility of Satae Populations Up', fontsize=11, fontweight='bold')\n",
    "plt.ylabel('Possibility of Satae Populations Down', fontsize=11, fontweight='bold')\n",
    "\n",
    "# Adjust layout to prevent overlap\n",
    "plt.tight_layout()\n",
    "plt.savefig('/home/kali/Desktop/Article/OutPut/figure1.png', dpi=800)"
   ]
  },
  {
   "cell_type": "code",
   "execution_count": 16,
   "metadata": {},
   "outputs": [],
   "source": [
    "import numpy as np\n",
    "import matplotlib.pyplot as plt\n",
    "\n",
    "# Number of samples to generate\n",
    "n_samples = 1000000\n",
    "\n",
    "# Generate samples for a, b, and c from normal distributions\n",
    "mu_a, sigma_a = 0.4, 0.001  # mean and standard deviation\n",
    "mu_b, sigma_b = 0.3, 0.001\n",
    "mu_c, sigma_c = 0.5, 0.001\n",
    "a = np.random.normal(mu_a, sigma_a, n_samples)\n",
    "b = np.random.normal(mu_b, sigma_b, n_samples)\n",
    "c = np.random.normal(mu_c, sigma_c, n_samples)\n",
    "\n",
    "# Calculate phi\n",
    "phi = np.arccos(a / (2 * np.sqrt(b * c)))\n",
    "plt.figure()\n",
    "# Plot the histogram of samples\n",
    "plt.hist(phi, bins=50, density=True, alpha=0.5, color='b')\n",
    "plt.xlabel('phi')\n",
    "plt.ylabel('Density')\n",
    "plt.title('Distribution of phi')\n",
    "plt.show()\n"
   ]
  },
  {
   "cell_type": "code",
   "execution_count": 17,
   "metadata": {},
   "outputs": [
    {
     "name": "stderr",
     "output_type": "stream",
     "text": [
      "/tmp/ipykernel_3749/4008330363.py:15: RuntimeWarning: invalid value encountered in arccos\n",
      "  samples_phi = np.arccos(samples_X)\n"
     ]
    }
   ],
   "source": [
    "import numpy as np\n",
    "import matplotlib.pyplot as plt\n",
    "\n",
    "# Number of samples to generate\n",
    "n_samples = 1000000\n",
    "\n",
    "# Parameters for the Cauchy distribution\n",
    "gamma = 0.1  # Scale parameter\n",
    "x0 = 1     # Location parameter, which can be considered as the median\n",
    "\n",
    "# Generate random samples for X from the Cauchy distribution\n",
    "samples_X = np.random.standard_cauchy(n_samples) * gamma + x0\n",
    "\n",
    "# Calculate phi for each sample\n",
    "samples_phi = np.arccos(samples_X)\n",
    "plt.figure()\n",
    "# Plot the histogram of samples\n",
    "plt.hist(samples_phi, bins=50, density=True, alpha=0.5, color='b')\n",
    "plt.xlabel('phi')\n",
    "plt.ylabel('Density')\n",
    "plt.title('Distribution of phi')\n",
    "plt.show()\n"
   ]
  }
 ],
 "metadata": {
  "kernelspec": {
   "display_name": "base",
   "language": "python",
   "name": "python3"
  },
  "language_info": {
   "codemirror_mode": {
    "name": "ipython",
    "version": 3
   },
   "file_extension": ".py",
   "mimetype": "text/x-python",
   "name": "python",
   "nbconvert_exporter": "python",
   "pygments_lexer": "ipython3",
   "version": "3.9.12"
  }
 },
 "nbformat": 4,
 "nbformat_minor": 2
}
