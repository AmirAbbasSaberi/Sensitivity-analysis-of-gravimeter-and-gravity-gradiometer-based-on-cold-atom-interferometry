{
 "cells": [
  {
   "cell_type": "code",
   "execution_count": 1,
   "metadata": {},
   "outputs": [],
   "source": [
    "import numpy as np\n",
    "import pandas as pd\n",
    "import matplotlib.pyplot as plt\n",
    "from numpy.linalg import inv,eig,det,eigvals\n",
    "from numpy import log\n",
    "import allantools\n",
    "from scipy.signal import welch , periodogram\n",
    "from scipy.stats import gaussian_kde\n",
    "\n",
    "\n",
    "\n"
   ]
  },
  {
   "cell_type": "code",
   "execution_count": 2,
   "metadata": {},
   "outputs": [
    {
     "name": "stderr",
     "output_type": "stream",
     "text": [
      "libGL error: MESA-LOADER: failed to open iris: /usr/lib/dri/iris_dri.so: cannot open shared object file: No such file or directory (search paths /usr/lib/x86_64-linux-gnu/dri:\\$${ORIGIN}/dri:/usr/lib/dri, suffix _dri)\n",
      "libGL error: failed to load driver: iris\n",
      "libGL error: MESA-LOADER: failed to open iris: /usr/lib/dri/iris_dri.so: cannot open shared object file: No such file or directory (search paths /usr/lib/x86_64-linux-gnu/dri:\\$${ORIGIN}/dri:/usr/lib/dri, suffix _dri)\n",
      "libGL error: failed to load driver: iris\n",
      "libGL error: MESA-LOADER: failed to open swrast: /usr/lib/dri/swrast_dri.so: cannot open shared object file: No such file or directory (search paths /usr/lib/x86_64-linux-gnu/dri:\\$${ORIGIN}/dri:/usr/lib/dri, suffix _dri)\n",
      "libGL error: failed to load driver: swrast\n"
     ]
    }
   ],
   "source": [
    "%matplotlib qt  \n",
    "# Load data\n",
    "resd = np.loadtxt('resd1.txt')\n",
    "\n",
    "# Compute KDE\n",
    "kde = gaussian_kde(resd)\n",
    "x = np.linspace(min(resd), max(resd), 200)\n",
    "\n",
    "# Create a new figure with adjusted size and font settings\n",
    "plt.figure(figsize=(6, 5))\n",
    "plt.rcParams.update({'font.size': 12})\n",
    "\n",
    "# Plot histogram\n",
    "plt.hist(resd, bins=30, density=True, alpha=0.5, color='black', edgecolor='black', label='Histogram')\n",
    "\n",
    "# Plot KDE curve\n",
    "plt.plot(x, kde(x), color='black', label='KDE')\n",
    "\n",
    "# Fill area under KDE curve\n",
    "plt.fill_between(x, 0, kde(x), alpha=0.3, color='black')\n",
    "\n",
    "# Add title and labels with improved font style\n",
    "plt.title('Kernel Density Estimation (KDE) Dataset 1',  fontsize=11, fontweight='bold')\n",
    "plt.xlabel('Dataset1', fontsize=11, fontweight='bold')\n",
    "plt.ylabel('Density', fontsize=11, fontweight='bold')\n",
    "\n",
    "# Add legend\n",
    "plt.legend()\n",
    "plt.tight_layout()\n",
    "\n",
    "# Add gridlines with custom linestyle\n",
    "plt.grid(True, linestyle='--', alpha=0.5)\n",
    "\n",
    "# Show plot\n",
    "plt.savefig('/home/kali/Desktop/Article/OutPut/figure20.png', dpi=800)\n"
   ]
  },
  {
   "cell_type": "code",
   "execution_count": 3,
   "metadata": {},
   "outputs": [],
   "source": [
    "# Load data\n",
    "resd = np.loadtxt('resd2.txt')\n",
    "\n",
    "# Compute KDE\n",
    "kde = gaussian_kde(resd)\n",
    "x = np.linspace(min(resd), max(resd), 200)\n",
    "\n",
    "# Create a new figure with adjusted size and font settings\n",
    "plt.figure(figsize=(6, 5))\n",
    "plt.rcParams.update({'font.size': 11})\n",
    "\n",
    "# Plot histogram\n",
    "plt.hist(resd, bins=30, density=True, alpha=0.5, color='black', edgecolor='black', label='Histogram')\n",
    "\n",
    "# Plot KDE curve\n",
    "plt.plot(x, kde(x), color='black', label='KDE')\n",
    "\n",
    "# Fill area under KDE curve\n",
    "plt.fill_between(x, 0, kde(x), alpha=0.3, color='black')\n",
    "\n",
    "# Add title and labels with improved font style\n",
    "plt.title('Kernel Density Estimation (KDE) Dataset 2',  fontsize=11, fontweight='bold')\n",
    "plt.xlabel('Dataset2', fontsize=11, fontweight='bold')\n",
    "plt.ylabel('Density', fontsize=11, fontweight='bold')\n",
    "\n",
    "# Add legend\n",
    "plt.legend()\n",
    "plt.tight_layout()\n",
    "# Add gridlines with custom linestyle\n",
    "plt.grid(True, linestyle='--', alpha=0.5)\n",
    "\n",
    "plt.savefig('/home/kali/Desktop/Article/OutPut/figure21.png', dpi=800)\n"
   ]
  },
  {
   "cell_type": "code",
   "execution_count": 4,
   "metadata": {},
   "outputs": [],
   "source": [
    "plt.figure(figsize=(6, 5))\n",
    "# Sample data\n",
    "categories = ['White', 'White\\n And Random', 'White \\n And Fliker', 'White And\\n AutoRegressive']\n",
    "values = np.loadtxt('Dataset1_Maximumliklehood.txt')\n",
    "values = values-min(values) + 0.1\n",
    "# Plotting the bar chart\n",
    "plt.bar(categories, values, color='black')\n",
    "\n",
    "# Adding labels and title\n",
    "plt.xlabel('Categories', fontsize=11, fontweight='bold')\n",
    "plt.ylabel('Maximum Likelihood Estiamtion Result', fontsize=11, fontweight='bold')\n",
    "plt.tight_layout()\n",
    "plt.savefig('/home/kali/Desktop/Article/OutPut/figure11.png', dpi=800)\n",
    "plt.show()"
   ]
  },
  {
   "cell_type": "code",
   "execution_count": 5,
   "metadata": {},
   "outputs": [],
   "source": [
    "# Sample data\n",
    "plt.figure(figsize=(6, 5))\n",
    "categories = ['White', 'White\\n And Random', 'White \\n And Fliker', 'White And \\n AutoRegressive']\n",
    "values = np.loadtxt('Dataset2_Maximumliklehood.txt')\n",
    "values = values-min(values) + 0.1\n",
    "# Plotting the bar chart\n",
    "plt.bar(categories, values, color='black')\n",
    "\n",
    "# Adding labels and title\n",
    "plt.xlabel('Categories', fontsize=11, fontweight='bold')\n",
    "plt.ylabel('Maximum Likelihood Estiamtion Result', fontsize=11, fontweight='bold')\n",
    "plt.tight_layout()\n",
    "plt.savefig('/home/kali/Desktop/Article/OutPut/figure12.png', dpi=800)\n"
   ]
  }
 ],
 "metadata": {
  "kernelspec": {
   "display_name": "base",
   "language": "python",
   "name": "python3"
  },
  "language_info": {
   "codemirror_mode": {
    "name": "ipython",
    "version": 3
   },
   "file_extension": ".py",
   "mimetype": "text/x-python",
   "name": "python",
   "nbconvert_exporter": "python",
   "pygments_lexer": "ipython3",
   "version": "3.9.12"
  }
 },
 "nbformat": 4,
 "nbformat_minor": 2
}
